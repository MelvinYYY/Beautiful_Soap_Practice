{
 "cells": [
  {
   "cell_type": "raw",
   "metadata": {
    "scrolled": true
   },
   "source": [
    "import sys\n",
    "!{sys.executable} -m pip install -U nbresuse"
   ]
  },
  {
   "cell_type": "code",
   "execution_count": 1,
   "metadata": {},
   "outputs": [],
   "source": [
    "import pandas as pd \n",
    "import numpy as np\n",
    "import requests \n",
    "from bs4 import BeautifulSoup\n",
    "import pickle\n",
    "import gc\n",
    "import multiprocessing\n",
    "from multiprocessing import Pool\n",
    "from time import sleep\n",
    "import requests\n",
    "import re"
   ]
  },
  {
   "cell_type": "code",
   "execution_count": 2,
   "metadata": {},
   "outputs": [
    {
     "data": {
      "text/plain": [
       "8"
      ]
     },
     "execution_count": 2,
     "metadata": {},
     "output_type": "execute_result"
    }
   ],
   "source": [
    "cores = multiprocessing.cpu_count()\n",
    "cores"
   ]
  },
  {
   "cell_type": "markdown",
   "metadata": {},
   "source": [
    "### Get a list of website "
   ]
  },
  {
   "cell_type": "code",
   "execution_count": null,
   "metadata": {},
   "outputs": [],
   "source": [
    "# First page\n",
    "websites = ['https://mrolinks.mro-network.com/exhibitordirectory?product_categories=20821&countryfield=US'] # First Page"
   ]
  },
  {
   "cell_type": "code",
   "execution_count": null,
   "metadata": {},
   "outputs": [],
   "source": [
    "# Get the rest of the web pages \n",
    "for i in range(1,87):\n",
    "    web = 'https://mrolinks.mro-network.com/exhibitordirectory?page=' +str(i) +'&product_categories=20821&countryfield=US'\n",
    "    websites.append(web)"
   ]
  },
  {
   "cell_type": "code",
   "execution_count": null,
   "metadata": {},
   "outputs": [],
   "source": [
    "len(websites)"
   ]
  },
  {
   "cell_type": "markdown",
   "metadata": {},
   "source": [
    "### Get the link to each company page "
   ]
  },
  {
   "cell_type": "markdown",
   "metadata": {},
   "source": [
    "#### Define function "
   ]
  },
  {
   "cell_type": "code",
   "execution_count": null,
   "metadata": {},
   "outputs": [],
   "source": [
    "def unique_list(links): \n",
    "    '''\n",
    "    Return a unique sub-list \n",
    "    '''\n",
    "   # order preserving\n",
    "    checked = []\n",
    "    \n",
    "    for link in links:\n",
    "        if link not in checked:\n",
    "            checked.append(link)\n",
    "            \n",
    "    return checked"
   ]
  },
  {
   "cell_type": "code",
   "execution_count": null,
   "metadata": {},
   "outputs": [],
   "source": [
    "# Retrun list from a website \n",
    "\n",
    "def get_list(web):\n",
    "    '''\n",
    "    Retrun an MRO list from a website \n",
    "    '''\n",
    "    page = requests.get(str(web)) # Access to the web page \n",
    "   \n",
    "    soup = BeautifulSoup(page.content, 'html.parser')  # Create a BeautifulSoup object\n",
    "    \n",
    "    # Return a list that contains all \"a herf\" object from the soup object\n",
    "    company_list = soup.find_all(\"a\", class_ = False, href=re.compile(\"/company/\"), text = True)\n",
    "   \n",
    "    company_links = [a['href'].strip() for a in company_list] # Get all herf link\n",
    "    \n",
    "    company_links = unique_list(company_links) #Return a unique list \n",
    "    \n",
    "    company_links = [link for link in company_links if not ('https' in link)] # Remove irrelevant website \n",
    "    \n",
    "    return company_links\n",
    "\n",
    "    "
   ]
  },
  {
   "cell_type": "markdown",
   "metadata": {},
   "source": [
    "##### Add Multiprocessor for the for loop if I have more time"
   ]
  },
  {
   "cell_type": "code",
   "execution_count": null,
   "metadata": {},
   "outputs": [],
   "source": [
    "# Define an empty website to store the data \n",
    "MRO = []"
   ]
  },
  {
   "cell_type": "code",
   "execution_count": null,
   "metadata": {},
   "outputs": [],
   "source": [
    "%%time \n",
    "for web in websites:\n",
    "    company_links = get_list(web)\n",
    "    MRO.extend(company_links)"
   ]
  },
  {
   "cell_type": "code",
   "execution_count": null,
   "metadata": {},
   "outputs": [],
   "source": [
    "len(MRO)"
   ]
  },
  {
   "cell_type": "code",
   "execution_count": null,
   "metadata": {},
   "outputs": [],
   "source": [
    "MRO[0:10]"
   ]
  },
  {
   "cell_type": "code",
   "execution_count": null,
   "metadata": {},
   "outputs": [],
   "source": [
    "%%time\n",
    "\n",
    "# Step 1: Init multiprocessing.Pool()\n",
    "p = Pool(processes=3)\n",
    "\n",
    "# Step 2: `pool.apply` the `howmany_within_range()`\n",
    "MRO1 = [p.apply(get_list, args=web) for web in websites]\n",
    "\n",
    "# Step 3: Don't forget to close\n",
    "#p.close()   "
   ]
  },
  {
   "cell_type": "markdown",
   "metadata": {},
   "source": [
    "### Get Company Name and Address "
   ]
  },
  {
   "cell_type": "code",
   "execution_count": null,
   "metadata": {},
   "outputs": [],
   "source": [
    "# Retrun list from a website \n",
    "\n",
    "def get_company_info(web):\n",
    "    '''\n",
    "    Retrun company name and zip code from a website \n",
    "    '''\n",
    "    web = 'https://mrolinks.mro-network.com'+str(web)\n",
    "    page = requests.get(str(web)) # Access to the web page \n",
    "   \n",
    "    soup = BeautifulSoup(page.content, 'html.parser')  # Create a BeautifulSoup object\n",
    "    \n",
    "    # Return a list that contains all \"a herf\" object from the soup object\n",
    "    company_name = soup.find_all(\"h1\", text = True)[0].text.strip()\n",
    "    zipcode = soup.find_all(\"span\", {'class': 'postal-code'}, text = True)[0].text.strip()\n",
    "    \n",
    "    return company_name, zipcode"
   ]
  },
  {
   "cell_type": "code",
   "execution_count": null,
   "metadata": {},
   "outputs": [],
   "source": [
    "%%time \n",
    "company_names = []\n",
    "zipcodes = []\n",
    "\n",
    "for web in MRO_website:\n",
    "    try:\n",
    "        company_name, zipcode = get_company_info(web)\n",
    "        company_names.append(company_name)\n",
    "        zipcodes.append(zipcode)\n",
    "    except:\n",
    "        print(web)"
   ]
  },
  {
   "cell_type": "code",
   "execution_count": null,
   "metadata": {},
   "outputs": [],
   "source": [
    "len(company_names)\n",
    "len(zipcodes)"
   ]
  },
  {
   "cell_type": "code",
   "execution_count": null,
   "metadata": {},
   "outputs": [],
   "source": [
    "miles30 = [98134,98106,98126,98161,98104,98174,98144,98108,98164,98154,98111,98114,98124,98129,98138,98145,\n",
    "           98170,98181,98185,98190,98191,98113,98127,98139,98141,98165,98175,98194,98101,98116,98121,98122,\n",
    "           98136,98118,98109,98102,98112,98040,98119,98146,98039,98195,98168,98199,98178,98105,98004,98107,\n",
    "           98103,98009,98015,98062,98131,98056,98115,98005,98117,98158,98166,98386,98148,98057,98006,98188,\n",
    "           98033,98007,98083,98353,98384,98061,98125,98055,98110,98008,98366,98034,98059,98133,98070,98177,\n",
    "           98378,98073,98052,98031,98032,98155,98198,98028,98310,98082,98013,98011,98160,98337,98058,98064,\n",
    "           98035,98089,98075,98314,98074,98041,98311,98029,98359,98393,98392,98043,98342,98030,98345,98053,\n",
    "           98367,98036,98020,98021,98072,98027,98322,98046,98042,98077,98370,98003,98026,98001,98023,98037,\n",
    "           98063,98071,98093,98332,98002,98383,98346,98038,98395,98050,98312,98422,98012,98315,98407,98087,\n",
    "           98014,98421,98417,98403,98047,98402,98092,98354,98329,98296,98416,98413,98401,98411,98412,98415,\n",
    "           98431,98464,98471,98481,98493,98497,98448,98025,98204,98406,98364,98424,98405,98335,98275,98208,\n",
    "           98010,98465,98419,98418,98051,98372,98404,98390,98371,98443,98466,98409,98352,98340,98024,98490,\n",
    "           98065,98291,98333,98203,98408,98380,98394,98236,98467,98019,98349,98365,98391,98496,98524,98207,\n",
    "           98528,98213,98499,98376,98373,98272,98201,98290,98447,98444,98498,98206,98398,98445,98388,98446,\n",
    "           98374,98438,98439,98385,98351,98375,98260,98588,98546,98249,98430,98303,98270,98293,98325,98396,\n",
    "           98258,98387,98339,98271,98327,98433,98516,98358,98045,98253,98592,98338,98251,98555,98368]"
   ]
  },
  {
   "cell_type": "code",
   "execution_count": null,
   "metadata": {},
   "outputs": [],
   "source": [
    "df = pd.DataFrame({'MRO': company_names,\n",
    "                  'zipcode': zipcodes})"
   ]
  },
  {
   "cell_type": "code",
   "execution_count": null,
   "metadata": {},
   "outputs": [],
   "source": [
    "df.head()"
   ]
  },
  {
   "cell_type": "code",
   "execution_count": null,
   "metadata": {},
   "outputs": [],
   "source": [
    "df.to_csv('MRO_List.csv')"
   ]
  },
  {
   "cell_type": "code",
   "execution_count": null,
   "metadata": {},
   "outputs": [],
   "source": []
  },
  {
   "cell_type": "code",
   "execution_count": null,
   "metadata": {},
   "outputs": [],
   "source": []
  }
 ],
 "metadata": {
  "kernelspec": {
   "display_name": "Python 3",
   "language": "python",
   "name": "python3"
  },
  "language_info": {
   "codemirror_mode": {
    "name": "ipython",
    "version": 3
   },
   "file_extension": ".py",
   "mimetype": "text/x-python",
   "name": "python",
   "nbconvert_exporter": "python",
   "pygments_lexer": "ipython3",
   "version": "3.7.3"
  }
 },
 "nbformat": 4,
 "nbformat_minor": 2
}
