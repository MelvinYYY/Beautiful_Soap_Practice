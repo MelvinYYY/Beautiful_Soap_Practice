{
 "cells": [
  {
   "cell_type": "raw",
   "metadata": {
    "scrolled": true
   },
   "source": [
    "import sys\n",
    "!{sys.executable} -m pip install -U nbresuse"
   ]
  },
  {
   "cell_type": "code",
   "execution_count": 4,
   "metadata": {},
   "outputs": [],
   "source": [
    "import pandas as pd \n",
    "import numpy as np\n",
    "import requests \n",
    "from bs4 import BeautifulSoup\n",
    "import pickle\n",
    "import gc\n",
    "import multiprocessing\n",
    "from multiprocessing import Pool\n",
    "from time import sleep\n",
    "import requests\n",
    "import re\n",
    "from function import get_company_info, get_list, unique_list # Save a function to \n",
    "import itertools"
   ]
  },
  {
   "cell_type": "code",
   "execution_count": 5,
   "metadata": {},
   "outputs": [
    {
     "name": "stdout",
     "output_type": "stream",
     "text": [
      "Number of MRO:  1706\n"
     ]
    },
    {
     "ename": "IndexError",
     "evalue": "list index out of range",
     "output_type": "error",
     "traceback": [
      "\u001b[1;31m---------------------------------------------------------------------------\u001b[0m",
      "\u001b[1;31mRemoteTraceback\u001b[0m                           Traceback (most recent call last)",
      "\u001b[1;31mRemoteTraceback\u001b[0m: \n\"\"\"\nTraceback (most recent call last):\n  File \"C:\\ProgramData\\Anaconda3\\lib\\multiprocessing\\pool.py\", line 121, in worker\n    result = (True, func(*args, **kwds))\n  File \"C:\\ProgramData\\Anaconda3\\lib\\multiprocessing\\pool.py\", line 44, in mapstar\n    return list(map(*args))\n  File \"C:\\Users\\myuan\\Document\\MRO_List\\function.py\", line 63, in get_company_info\n    zipcode = soup.find_all(\"span\", {'class': 'postal-code'}, text = True)[0].text.strip()\nIndexError: list index out of range\n\"\"\"",
      "\nThe above exception was the direct cause of the following exception:\n",
      "\u001b[1;31mIndexError\u001b[0m                                Traceback (most recent call last)",
      "\u001b[1;32m<timed exec>\u001b[0m in \u001b[0;36m<module>\u001b[1;34m\u001b[0m\n",
      "\u001b[1;32mC:\\ProgramData\\Anaconda3\\lib\\multiprocessing\\pool.py\u001b[0m in \u001b[0;36mmap\u001b[1;34m(self, func, iterable, chunksize)\u001b[0m\n\u001b[0;32m    266\u001b[0m         \u001b[1;32min\u001b[0m \u001b[0ma\u001b[0m \u001b[0mlist\u001b[0m \u001b[0mthat\u001b[0m \u001b[1;32mis\u001b[0m \u001b[0mreturned\u001b[0m\u001b[1;33m.\u001b[0m\u001b[1;33m\u001b[0m\u001b[1;33m\u001b[0m\u001b[0m\n\u001b[0;32m    267\u001b[0m         '''\n\u001b[1;32m--> 268\u001b[1;33m         \u001b[1;32mreturn\u001b[0m \u001b[0mself\u001b[0m\u001b[1;33m.\u001b[0m\u001b[0m_map_async\u001b[0m\u001b[1;33m(\u001b[0m\u001b[0mfunc\u001b[0m\u001b[1;33m,\u001b[0m \u001b[0miterable\u001b[0m\u001b[1;33m,\u001b[0m \u001b[0mmapstar\u001b[0m\u001b[1;33m,\u001b[0m \u001b[0mchunksize\u001b[0m\u001b[1;33m)\u001b[0m\u001b[1;33m.\u001b[0m\u001b[0mget\u001b[0m\u001b[1;33m(\u001b[0m\u001b[1;33m)\u001b[0m\u001b[1;33m\u001b[0m\u001b[1;33m\u001b[0m\u001b[0m\n\u001b[0m\u001b[0;32m    269\u001b[0m \u001b[1;33m\u001b[0m\u001b[0m\n\u001b[0;32m    270\u001b[0m     \u001b[1;32mdef\u001b[0m \u001b[0mstarmap\u001b[0m\u001b[1;33m(\u001b[0m\u001b[0mself\u001b[0m\u001b[1;33m,\u001b[0m \u001b[0mfunc\u001b[0m\u001b[1;33m,\u001b[0m \u001b[0miterable\u001b[0m\u001b[1;33m,\u001b[0m \u001b[0mchunksize\u001b[0m\u001b[1;33m=\u001b[0m\u001b[1;32mNone\u001b[0m\u001b[1;33m)\u001b[0m\u001b[1;33m:\u001b[0m\u001b[1;33m\u001b[0m\u001b[1;33m\u001b[0m\u001b[0m\n",
      "\u001b[1;32mC:\\ProgramData\\Anaconda3\\lib\\multiprocessing\\pool.py\u001b[0m in \u001b[0;36mget\u001b[1;34m(self, timeout)\u001b[0m\n\u001b[0;32m    655\u001b[0m             \u001b[1;32mreturn\u001b[0m \u001b[0mself\u001b[0m\u001b[1;33m.\u001b[0m\u001b[0m_value\u001b[0m\u001b[1;33m\u001b[0m\u001b[1;33m\u001b[0m\u001b[0m\n\u001b[0;32m    656\u001b[0m         \u001b[1;32melse\u001b[0m\u001b[1;33m:\u001b[0m\u001b[1;33m\u001b[0m\u001b[1;33m\u001b[0m\u001b[0m\n\u001b[1;32m--> 657\u001b[1;33m             \u001b[1;32mraise\u001b[0m \u001b[0mself\u001b[0m\u001b[1;33m.\u001b[0m\u001b[0m_value\u001b[0m\u001b[1;33m\u001b[0m\u001b[1;33m\u001b[0m\u001b[0m\n\u001b[0m\u001b[0;32m    658\u001b[0m \u001b[1;33m\u001b[0m\u001b[0m\n\u001b[0;32m    659\u001b[0m     \u001b[1;32mdef\u001b[0m \u001b[0m_set\u001b[0m\u001b[1;33m(\u001b[0m\u001b[0mself\u001b[0m\u001b[1;33m,\u001b[0m \u001b[0mi\u001b[0m\u001b[1;33m,\u001b[0m \u001b[0mobj\u001b[0m\u001b[1;33m)\u001b[0m\u001b[1;33m:\u001b[0m\u001b[1;33m\u001b[0m\u001b[1;33m\u001b[0m\u001b[0m\n",
      "\u001b[1;31mIndexError\u001b[0m: list index out of range"
     ]
    }
   ],
   "source": [
    "%%time\n",
    "if __name__ ==  '__main__':\n",
    "    \n",
    "    # Get a list of Websites\n",
    "    # First page\n",
    "    websites = ['https://mrolinks.mro-network.com/exhibitordirectory?product_categories=20821&countryfield=US'] # First Page\n",
    "    # Get the rest of the web pages \n",
    "    for i in range(1,87):\n",
    "        web = 'https://mrolinks.mro-network.com/exhibitordirectory?page=' +str(i) +'&product_categories=20821&countryfield=US'\n",
    "        websites.append(web)\n",
    "        \n",
    "    # Define a list of zipcode \n",
    "    miles40 = [98134,98106,98126,98161,98104,98174,98144,98108,98164,98154,98111,98114,98124,98129,98138,98145,\n",
    "           98170,98181,98185,98190,98191,98113,98127,98139,98141,98165,98175,98194,98101,98116,98121,98122,\n",
    "           98136,98118,98109,98102,98112,98040,98119,98146,98039,98195,98168,98199,98178,98105,98004,98107,\n",
    "           98103,98009,98015,98062,98131,98056,98115,98005,98117,98158,98166,98386,98148,98057,98006,98188,\n",
    "           98033,98007,98083,98353,98384,98061,98125,98055,98110,98008,98366,98034,98059,98133,98070,98177,\n",
    "           98378,98073,98052,98031,98032,98155,98198,98028,98310,98082,98013,98011,98160,98337,98058,98064,\n",
    "           98035,98089,98075,98314,98074,98041,98311,98029,98359,98393,98392,98043,98342,98030,98345,98053,\n",
    "           98367,98036,98020,98021,98072,98027,98322,98046,98042,98077,98370,98003,98026,98001,98023,98037,\n",
    "           98063,98071,98093,98332,98002,98383,98346,98038,98395,98050,98312,98422,98012,98315,98407,98087,\n",
    "           98014,98421,98417,98403,98047,98402,98092,98354,98329,98296,98416,98413,98401,98411,98412,98415,\n",
    "           98431,98464,98471,98481,98493,98497,98448,98025,98204,98406,98364,98424,98405,98335,98275,98208,\n",
    "           98010,98465,98419,98418,98051,98372,98404,98390,98371,98443,98466,98409,98352,98340,98024,98490,\n",
    "           98065,98291,98333,98203,98408,98380,98394,98236,98467,98019,98349,98365,98391,98496,98524,98207,\n",
    "           98528,98213,98499,98376,98373,98272,98201,98290,98447,98444,98498,98206,98398,98445,98388,98446,\n",
    "           98374,98438,98439,98385,98351,98375,98260,98588,98546,98249,98430,98303,98270,98293,98325,98396,\n",
    "           98258,98387,98339,98271,98327,98433,98516,98358,98045,98253,98592,98338,98251,98555,98368]\n",
    "    \n",
    "    # Define argument for multiprocessing \n",
    "    num_processors = multiprocessing.cpu_count()\n",
    "    p=Pool(processes = num_processors)\n",
    "    \n",
    "    # Multiprocessing: Get all individual company's website\n",
    "    MRO = p.map(get_list,[web for web in websites])\n",
    "    MRO = list(itertools.chain.from_iterable(MRO))  # Flatten the MRO list \n",
    "    print('Number of MRO: ', len(MRO))\n",
    "    \n",
    "    # Get Company info\n",
    "    results = p.map(get_company_info, [web for web in MRO])\n",
    "    company_names = [result[0] for result in results]\n",
    "    zipcodes = [result[1] for result in results]\n",
    "    \n",
    "    # Return a Data Frame \n",
    "    df = pd.DataFrame({'MRO': company_names,\n",
    "                  'zipcode': zipcodes})\n",
    "    \n",
    "    # Check if the MRO company are within range \n",
    "    df['Within_Range'] = df['zipcode'].isin(miles40).astype(int)\n",
    "    \n",
    "    # Save an CSV file \n",
    "    df.to_csv('MRO_List.csv', index = False)"
   ]
  },
  {
   "cell_type": "raw",
   "metadata": {},
   "source": [
    "Some of the links are not valid. "
   ]
  },
  {
   "cell_type": "code",
   "execution_count": 6,
   "metadata": {},
   "outputs": [
    {
     "data": {
      "text/html": [
       "<div>\n",
       "<style scoped>\n",
       "    .dataframe tbody tr th:only-of-type {\n",
       "        vertical-align: middle;\n",
       "    }\n",
       "\n",
       "    .dataframe tbody tr th {\n",
       "        vertical-align: top;\n",
       "    }\n",
       "\n",
       "    .dataframe thead th {\n",
       "        text-align: right;\n",
       "    }\n",
       "</style>\n",
       "<table border=\"1\" class=\"dataframe\">\n",
       "  <thead>\n",
       "    <tr style=\"text-align: right;\">\n",
       "      <th></th>\n",
       "      <th>Unnamed: 0</th>\n",
       "      <th>MRO</th>\n",
       "      <th>zipcode</th>\n",
       "      <th>30miles?</th>\n",
       "    </tr>\n",
       "  </thead>\n",
       "  <tbody>\n",
       "    <tr>\n",
       "      <th>0</th>\n",
       "      <td>1489</td>\n",
       "      <td>SpanaFlight</td>\n",
       "      <td>98374</td>\n",
       "      <td>1.0</td>\n",
       "    </tr>\n",
       "    <tr>\n",
       "      <th>1</th>\n",
       "      <td>540</td>\n",
       "      <td>Avian Aeronautics, Inc.</td>\n",
       "      <td>98367</td>\n",
       "      <td>1.0</td>\n",
       "    </tr>\n",
       "    <tr>\n",
       "      <th>2</th>\n",
       "      <td>1474</td>\n",
       "      <td>Soundair Repair Group, LLC</td>\n",
       "      <td>98290</td>\n",
       "      <td>1.0</td>\n",
       "    </tr>\n",
       "    <tr>\n",
       "      <th>3</th>\n",
       "      <td>671</td>\n",
       "      <td>Cannon Aircraft Interiors-Cai Avionics</td>\n",
       "      <td>98204</td>\n",
       "      <td>1.0</td>\n",
       "    </tr>\n",
       "    <tr>\n",
       "      <th>4</th>\n",
       "      <td>866</td>\n",
       "      <td>Esterline</td>\n",
       "      <td>98204</td>\n",
       "      <td>1.0</td>\n",
       "    </tr>\n",
       "  </tbody>\n",
       "</table>\n",
       "</div>"
      ],
      "text/plain": [
       "   Unnamed: 0                                     MRO  zipcode  30miles?\n",
       "0        1489                             SpanaFlight    98374       1.0\n",
       "1         540                 Avian Aeronautics, Inc.    98367       1.0\n",
       "2        1474              Soundair Repair Group, LLC    98290       1.0\n",
       "3         671  Cannon Aircraft Interiors-Cai Avionics    98204       1.0\n",
       "4         866                               Esterline    98204       1.0"
      ]
     },
     "execution_count": 6,
     "metadata": {},
     "output_type": "execute_result"
    }
   ],
   "source": [
    "df = pd.read_csv('MRO_List.csv', header = 0)\n",
    "df.head()"
   ]
  },
  {
   "cell_type": "code",
   "execution_count": 7,
   "metadata": {},
   "outputs": [
    {
     "data": {
      "text/plain": [
       "(1727, 4)"
      ]
     },
     "execution_count": 7,
     "metadata": {},
     "output_type": "execute_result"
    }
   ],
   "source": [
    "df.shape"
   ]
  },
  {
   "cell_type": "code",
   "execution_count": null,
   "metadata": {},
   "outputs": [],
   "source": []
  }
 ],
 "metadata": {
  "kernelspec": {
   "display_name": "Python 3",
   "language": "python",
   "name": "python3"
  },
  "language_info": {
   "codemirror_mode": {
    "name": "ipython",
    "version": 3
   },
   "file_extension": ".py",
   "mimetype": "text/x-python",
   "name": "python",
   "nbconvert_exporter": "python",
   "pygments_lexer": "ipython3",
   "version": "3.7.3"
  }
 },
 "nbformat": 4,
 "nbformat_minor": 2
}
